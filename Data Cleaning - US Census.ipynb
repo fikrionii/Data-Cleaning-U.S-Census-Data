{
 "cells": [
  {
   "cell_type": "markdown",
   "id": "29f34e27",
   "metadata": {},
   "source": [
    "# Data Wrangling with Python: U.S Census Data\n",
    "\n",
    "**Alfikri Ramadhan - [LinkedIn](https://www.linkedin.com/in/alfikri-ramadhan/)**"
   ]
  },
  {
   "cell_type": "markdown",
   "id": "d389a4a4",
   "metadata": {},
   "source": [
    "<img src=\"figs/andy_productivity.jpg\" width=\"300\"/>"
   ]
  },
  {
   "cell_type": "markdown",
   "id": "c7fef500",
   "metadata": {},
   "source": [
    "## About The Project\n",
    "***\n",
    "Frequently when we work with data, we encounter unstructured and/or messy data. Messy data can take a variety of forms. This could mean any of the following:\n",
    "\n",
    "- The columns are mislabeled or do not have variable names.\n",
    "- The dataset contains nonsensical data.\n",
    "- Variables are stored in both the columns and rows.\n",
    "\n",
    "While the data may be messy, it is still extremely informative. We need to clean, transform, and sometimes manipulate the data structure to gain any insights. This process is often called **data wrangling**.\n",
    "\n",
    "Having clean data will improves data quality. Ultimately, this will allow us to make better data-driven decision-making for business.\n",
    "\n",
    "The aim of this project is to demonstrate some method for cleaning data. After the data is cleaned, it will be analyzed through visualization to find interesting insight. "
   ]
  },
  {
   "cell_type": "markdown",
   "id": "c2d9d68f",
   "metadata": {},
   "source": [
    "## The Dataset\n",
    "***\n",
    "The dataset is a dummy dataset obtained from Codecademy Data Scientist Career Path.\n",
    "\n",
    "We have 10 csv files, each file have different rows and with the same columns.\n",
    "\n",
    "<img src=\"figs/dataset_collection.png\" width=\"700\"/>"
   ]
  },
  {
   "cell_type": "markdown",
   "id": "22d401a9",
   "metadata": {},
   "source": [
    "## Data Loading and Inspecting\n",
    "***\n",
    "Instead of importing the dataset one-by-one, we can easily import and union all the dataset using `glob`"
   ]
  },
  {
   "cell_type": "code",
   "execution_count": 1,
   "id": "3c615561",
   "metadata": {},
   "outputs": [],
   "source": [
    "# import libraries\n",
    "import numpy as np\n",
    "import pandas as pd\n",
    "import glob\n",
    "import matplotlib.pyplot as plt\n",
    "import seaborn as sns"
   ]
  },
  {
   "cell_type": "code",
   "execution_count": 32,
   "id": "cfd6a285",
   "metadata": {},
   "outputs": [],
   "source": [
    "# load datasets\n",
    "census_files = glob.glob(\"datasets/states*.csv\")\n",
    "df_list = []\n",
    "for filename in census_files:\n",
    "    data = pd.read_csv(filename)\n",
    "    df_list.append(data)\n",
    "\n",
    "us_census = pd.concat(df_list).reset_index()"
   ]
  },
  {
   "cell_type": "code",
   "execution_count": 33,
   "id": "f98961e1",
   "metadata": {},
   "outputs": [
    {
     "data": {
      "text/html": [
       "<div>\n",
       "<style scoped>\n",
       "    .dataframe tbody tr th:only-of-type {\n",
       "        vertical-align: middle;\n",
       "    }\n",
       "\n",
       "    .dataframe tbody tr th {\n",
       "        vertical-align: top;\n",
       "    }\n",
       "\n",
       "    .dataframe thead th {\n",
       "        text-align: right;\n",
       "    }\n",
       "</style>\n",
       "<table border=\"1\" class=\"dataframe\">\n",
       "  <thead>\n",
       "    <tr style=\"text-align: right;\">\n",
       "      <th></th>\n",
       "      <th>index</th>\n",
       "      <th>Unnamed: 0</th>\n",
       "      <th>State</th>\n",
       "      <th>TotalPop</th>\n",
       "      <th>Hispanic</th>\n",
       "      <th>White</th>\n",
       "      <th>Black</th>\n",
       "      <th>Native</th>\n",
       "      <th>Asian</th>\n",
       "      <th>Pacific</th>\n",
       "      <th>Income</th>\n",
       "      <th>GenderPop</th>\n",
       "    </tr>\n",
       "  </thead>\n",
       "  <tbody>\n",
       "    <tr>\n",
       "      <th>0</th>\n",
       "      <td>0</td>\n",
       "      <td>0</td>\n",
       "      <td>Alabama</td>\n",
       "      <td>4830620</td>\n",
       "      <td>3.75%</td>\n",
       "      <td>61.88%</td>\n",
       "      <td>31.25%</td>\n",
       "      <td>0.45%</td>\n",
       "      <td>1.05%</td>\n",
       "      <td>0.03%</td>\n",
       "      <td>$43,296.36</td>\n",
       "      <td>2341093M_2489527F</td>\n",
       "    </tr>\n",
       "    <tr>\n",
       "      <th>1</th>\n",
       "      <td>1</td>\n",
       "      <td>1</td>\n",
       "      <td>Alaska</td>\n",
       "      <td>733375</td>\n",
       "      <td>5.91%</td>\n",
       "      <td>60.91%</td>\n",
       "      <td>2.85%</td>\n",
       "      <td>16.39%</td>\n",
       "      <td>5.45%</td>\n",
       "      <td>1.06%</td>\n",
       "      <td>$70,354.74</td>\n",
       "      <td>384160M_349215F</td>\n",
       "    </tr>\n",
       "    <tr>\n",
       "      <th>2</th>\n",
       "      <td>2</td>\n",
       "      <td>2</td>\n",
       "      <td>Arizona</td>\n",
       "      <td>6641928</td>\n",
       "      <td>29.57%</td>\n",
       "      <td>57.12%</td>\n",
       "      <td>3.85%</td>\n",
       "      <td>4.36%</td>\n",
       "      <td>2.88%</td>\n",
       "      <td>0.17%</td>\n",
       "      <td>$54,207.82</td>\n",
       "      <td>3299088M_3342840F</td>\n",
       "    </tr>\n",
       "    <tr>\n",
       "      <th>3</th>\n",
       "      <td>3</td>\n",
       "      <td>3</td>\n",
       "      <td>Arkansas</td>\n",
       "      <td>2958208</td>\n",
       "      <td>6.22%</td>\n",
       "      <td>71.14%</td>\n",
       "      <td>18.97%</td>\n",
       "      <td>0.52%</td>\n",
       "      <td>1.14%</td>\n",
       "      <td>0.15%</td>\n",
       "      <td>$41,935.63</td>\n",
       "      <td>1451913M_1506295F</td>\n",
       "    </tr>\n",
       "    <tr>\n",
       "      <th>4</th>\n",
       "      <td>4</td>\n",
       "      <td>4</td>\n",
       "      <td>California</td>\n",
       "      <td>38421464</td>\n",
       "      <td>37.29%</td>\n",
       "      <td>40.22%</td>\n",
       "      <td>5.68%</td>\n",
       "      <td>0.41%</td>\n",
       "      <td>13.05%</td>\n",
       "      <td>0.35%</td>\n",
       "      <td>$67,264.78</td>\n",
       "      <td>19087135M_19334329F</td>\n",
       "    </tr>\n",
       "  </tbody>\n",
       "</table>\n",
       "</div>"
      ],
      "text/plain": [
       "   index  Unnamed: 0       State  TotalPop Hispanic   White   Black  Native  \\\n",
       "0      0           0     Alabama   4830620    3.75%  61.88%  31.25%   0.45%   \n",
       "1      1           1      Alaska    733375    5.91%  60.91%   2.85%  16.39%   \n",
       "2      2           2     Arizona   6641928   29.57%  57.12%   3.85%   4.36%   \n",
       "3      3           3    Arkansas   2958208    6.22%  71.14%  18.97%   0.52%   \n",
       "4      4           4  California  38421464   37.29%  40.22%   5.68%   0.41%   \n",
       "\n",
       "    Asian Pacific       Income            GenderPop  \n",
       "0   1.05%   0.03%  $43,296.36     2341093M_2489527F  \n",
       "1   5.45%   1.06%  $70,354.74       384160M_349215F  \n",
       "2   2.88%   0.17%  $54,207.82     3299088M_3342840F  \n",
       "3   1.14%   0.15%  $41,935.63     1451913M_1506295F  \n",
       "4  13.05%   0.35%  $67,264.78   19087135M_19334329F  "
      ]
     },
     "execution_count": 33,
     "metadata": {},
     "output_type": "execute_result"
    }
   ],
   "source": [
    "# see sample of data\n",
    "us_census.head()"
   ]
  },
  {
   "cell_type": "code",
   "execution_count": 4,
   "id": "9d417adb",
   "metadata": {},
   "outputs": [
    {
     "data": {
      "text/plain": [
       "Index(['index', 'Unnamed: 0', 'State', 'TotalPop', 'Hispanic', 'White',\n",
       "       'Black', 'Native', 'Asian', 'Pacific', 'Income', 'GenderPop'],\n",
       "      dtype='object')"
      ]
     },
     "execution_count": 4,
     "metadata": {},
     "output_type": "execute_result"
    }
   ],
   "source": [
    "# check columns of the dataset\n",
    "us_census.columns"
   ]
  },
  {
   "cell_type": "code",
   "execution_count": 5,
   "id": "cc34cb8d",
   "metadata": {},
   "outputs": [
    {
     "name": "stdout",
     "output_type": "stream",
     "text": [
      "<class 'pandas.core.frame.DataFrame'>\n",
      "RangeIndex: 60 entries, 0 to 59\n",
      "Data columns (total 12 columns):\n",
      " #   Column      Non-Null Count  Dtype \n",
      "---  ------      --------------  ----- \n",
      " 0   index       60 non-null     int64 \n",
      " 1   Unnamed: 0  60 non-null     int64 \n",
      " 2   State       60 non-null     object\n",
      " 3   TotalPop    60 non-null     int64 \n",
      " 4   Hispanic    60 non-null     object\n",
      " 5   White       60 non-null     object\n",
      " 6   Black       60 non-null     object\n",
      " 7   Native      60 non-null     object\n",
      " 8   Asian       60 non-null     object\n",
      " 9   Pacific     55 non-null     object\n",
      " 10  Income      60 non-null     object\n",
      " 11  GenderPop   60 non-null     object\n",
      "dtypes: int64(3), object(9)\n",
      "memory usage: 5.8+ KB\n"
     ]
    }
   ],
   "source": [
    "# quick overview of data\n",
    "us_census.info()"
   ]
  },
  {
   "cell_type": "markdown",
   "id": "e3ff54af",
   "metadata": {},
   "source": [
    "By glancing at the data sample and its data types, we can see some messiness in our data, some of them:\n",
    "- Variable `Unnamed: 0` seems doesn't add any information to our data.\n",
    "- The race variable (`Hispanic`, `White`, `Black`, etc.) shows percentage yet the data types is **object**.\n",
    "- `Income` appears to shows continous numbers, yet the data type is **object**.\n",
    "- Variable `GenderPop` shows the population for male and female. It would be better to separate this column to each gender population."
   ]
  },
  {
   "cell_type": "markdown",
   "id": "ac42bbc8",
   "metadata": {},
   "source": [
    "Before cleaning and transforming the dataset, let's see if our data has missing values and duplicated values"
   ]
  },
  {
   "cell_type": "code",
   "execution_count": 6,
   "id": "3c644908",
   "metadata": {},
   "outputs": [
    {
     "data": {
      "text/plain": [
       "index         0\n",
       "Unnamed: 0    0\n",
       "State         0\n",
       "TotalPop      0\n",
       "Hispanic      0\n",
       "White         0\n",
       "Black         0\n",
       "Native        0\n",
       "Asian         0\n",
       "Pacific       5\n",
       "Income        0\n",
       "GenderPop     0\n",
       "dtype: int64"
      ]
     },
     "execution_count": 6,
     "metadata": {},
     "output_type": "execute_result"
    }
   ],
   "source": [
    "us_census.isnull().sum()"
   ]
  },
  {
   "cell_type": "code",
   "execution_count": 7,
   "id": "a0ea25af",
   "metadata": {},
   "outputs": [
    {
     "data": {
      "text/plain": [
       "False    60\n",
       "dtype: int64"
      ]
     },
     "execution_count": 7,
     "metadata": {},
     "output_type": "execute_result"
    }
   ],
   "source": [
    "us_census.duplicated().value_counts()"
   ]
  },
  {
   "cell_type": "markdown",
   "id": "140e1dcc",
   "metadata": {},
   "source": [
    "## Cleaning the Dataset"
   ]
  },
  {
   "cell_type": "code",
   "execution_count": 8,
   "id": "d5d8a9d7",
   "metadata": {},
   "outputs": [],
   "source": [
    "us_census_raw = us_census.copy()"
   ]
  },
  {
   "cell_type": "markdown",
   "id": "25443b22",
   "metadata": {},
   "source": [
    "### 1. Remove unused variable"
   ]
  },
  {
   "cell_type": "code",
   "execution_count": 9,
   "id": "7324f02c",
   "metadata": {},
   "outputs": [
    {
     "data": {
      "text/html": [
       "<div>\n",
       "<style scoped>\n",
       "    .dataframe tbody tr th:only-of-type {\n",
       "        vertical-align: middle;\n",
       "    }\n",
       "\n",
       "    .dataframe tbody tr th {\n",
       "        vertical-align: top;\n",
       "    }\n",
       "\n",
       "    .dataframe thead th {\n",
       "        text-align: right;\n",
       "    }\n",
       "</style>\n",
       "<table border=\"1\" class=\"dataframe\">\n",
       "  <thead>\n",
       "    <tr style=\"text-align: right;\">\n",
       "      <th></th>\n",
       "      <th>State</th>\n",
       "      <th>TotalPop</th>\n",
       "      <th>Hispanic</th>\n",
       "      <th>White</th>\n",
       "      <th>Black</th>\n",
       "      <th>Native</th>\n",
       "      <th>Asian</th>\n",
       "      <th>Pacific</th>\n",
       "      <th>Income</th>\n",
       "      <th>GenderPop</th>\n",
       "    </tr>\n",
       "  </thead>\n",
       "  <tbody>\n",
       "    <tr>\n",
       "      <th>0</th>\n",
       "      <td>Alabama</td>\n",
       "      <td>4830620</td>\n",
       "      <td>3.75%</td>\n",
       "      <td>61.88%</td>\n",
       "      <td>31.25%</td>\n",
       "      <td>0.45%</td>\n",
       "      <td>1.05%</td>\n",
       "      <td>0.03%</td>\n",
       "      <td>$43,296.36</td>\n",
       "      <td>2341093M_2489527F</td>\n",
       "    </tr>\n",
       "    <tr>\n",
       "      <th>1</th>\n",
       "      <td>Alaska</td>\n",
       "      <td>733375</td>\n",
       "      <td>5.91%</td>\n",
       "      <td>60.91%</td>\n",
       "      <td>2.85%</td>\n",
       "      <td>16.39%</td>\n",
       "      <td>5.45%</td>\n",
       "      <td>1.06%</td>\n",
       "      <td>$70,354.74</td>\n",
       "      <td>384160M_349215F</td>\n",
       "    </tr>\n",
       "    <tr>\n",
       "      <th>2</th>\n",
       "      <td>Arizona</td>\n",
       "      <td>6641928</td>\n",
       "      <td>29.57%</td>\n",
       "      <td>57.12%</td>\n",
       "      <td>3.85%</td>\n",
       "      <td>4.36%</td>\n",
       "      <td>2.88%</td>\n",
       "      <td>0.17%</td>\n",
       "      <td>$54,207.82</td>\n",
       "      <td>3299088M_3342840F</td>\n",
       "    </tr>\n",
       "  </tbody>\n",
       "</table>\n",
       "</div>"
      ],
      "text/plain": [
       "     State  TotalPop Hispanic   White   Black  Native  Asian Pacific  \\\n",
       "0  Alabama   4830620    3.75%  61.88%  31.25%   0.45%  1.05%   0.03%   \n",
       "1   Alaska    733375    5.91%  60.91%   2.85%  16.39%  5.45%   1.06%   \n",
       "2  Arizona   6641928   29.57%  57.12%   3.85%   4.36%  2.88%   0.17%   \n",
       "\n",
       "        Income          GenderPop  \n",
       "0  $43,296.36   2341093M_2489527F  \n",
       "1  $70,354.74     384160M_349215F  \n",
       "2  $54,207.82   3299088M_3342840F  "
      ]
     },
     "execution_count": 9,
     "metadata": {},
     "output_type": "execute_result"
    }
   ],
   "source": [
    "# remove the `Unnamed: 0` column\n",
    "us_census = us_census.drop(['index','Unnamed: 0'], axis=1)\n",
    "us_census.head(3)"
   ]
  },
  {
   "cell_type": "markdown",
   "id": "c8ee02c0",
   "metadata": {},
   "source": [
    "### 2. Change the races and income variable to integer data type"
   ]
  },
  {
   "cell_type": "markdown",
   "id": "03ea8fc6",
   "metadata": {},
   "source": [
    "To change the races and income variable to numeric data type, first we must remove the symbols from its data and leave only numbers. After that, we can change its data type to integer/float."
   ]
  },
  {
   "cell_type": "code",
   "execution_count": 10,
   "id": "78d3aa47",
   "metadata": {},
   "outputs": [
    {
     "data": {
      "text/html": [
       "<div>\n",
       "<style scoped>\n",
       "    .dataframe tbody tr th:only-of-type {\n",
       "        vertical-align: middle;\n",
       "    }\n",
       "\n",
       "    .dataframe tbody tr th {\n",
       "        vertical-align: top;\n",
       "    }\n",
       "\n",
       "    .dataframe thead th {\n",
       "        text-align: right;\n",
       "    }\n",
       "</style>\n",
       "<table border=\"1\" class=\"dataframe\">\n",
       "  <thead>\n",
       "    <tr style=\"text-align: right;\">\n",
       "      <th></th>\n",
       "      <th>State</th>\n",
       "      <th>TotalPop</th>\n",
       "      <th>Hispanic</th>\n",
       "      <th>White</th>\n",
       "      <th>Black</th>\n",
       "      <th>Native</th>\n",
       "      <th>Asian</th>\n",
       "      <th>Pacific</th>\n",
       "      <th>Income</th>\n",
       "      <th>GenderPop</th>\n",
       "    </tr>\n",
       "  </thead>\n",
       "  <tbody>\n",
       "    <tr>\n",
       "      <th>0</th>\n",
       "      <td>Alabama</td>\n",
       "      <td>4830620</td>\n",
       "      <td>3.75%</td>\n",
       "      <td>61.88%</td>\n",
       "      <td>31.25%</td>\n",
       "      <td>0.45%</td>\n",
       "      <td>1.05%</td>\n",
       "      <td>0.03%</td>\n",
       "      <td>43296.36</td>\n",
       "      <td>2341093M_2489527F</td>\n",
       "    </tr>\n",
       "    <tr>\n",
       "      <th>1</th>\n",
       "      <td>Alaska</td>\n",
       "      <td>733375</td>\n",
       "      <td>5.91%</td>\n",
       "      <td>60.91%</td>\n",
       "      <td>2.85%</td>\n",
       "      <td>16.39%</td>\n",
       "      <td>5.45%</td>\n",
       "      <td>1.06%</td>\n",
       "      <td>70354.74</td>\n",
       "      <td>384160M_349215F</td>\n",
       "    </tr>\n",
       "    <tr>\n",
       "      <th>2</th>\n",
       "      <td>Arizona</td>\n",
       "      <td>6641928</td>\n",
       "      <td>29.57%</td>\n",
       "      <td>57.12%</td>\n",
       "      <td>3.85%</td>\n",
       "      <td>4.36%</td>\n",
       "      <td>2.88%</td>\n",
       "      <td>0.17%</td>\n",
       "      <td>54207.82</td>\n",
       "      <td>3299088M_3342840F</td>\n",
       "    </tr>\n",
       "  </tbody>\n",
       "</table>\n",
       "</div>"
      ],
      "text/plain": [
       "     State  TotalPop Hispanic   White   Black  Native  Asian Pacific  \\\n",
       "0  Alabama   4830620    3.75%  61.88%  31.25%   0.45%  1.05%   0.03%   \n",
       "1   Alaska    733375    5.91%  60.91%   2.85%  16.39%  5.45%   1.06%   \n",
       "2  Arizona   6641928   29.57%  57.12%   3.85%   4.36%  2.88%   0.17%   \n",
       "\n",
       "     Income          GenderPop  \n",
       "0  43296.36  2341093M_2489527F  \n",
       "1  70354.74    384160M_349215F  \n",
       "2  54207.82  3299088M_3342840F  "
      ]
     },
     "execution_count": 10,
     "metadata": {},
     "output_type": "execute_result"
    }
   ],
   "source": [
    "us_census.Income = us_census.Income.replace('[,\\$]', '', regex=True)\n",
    "us_census.Income = pd.to_numeric(us_census.Income)\n",
    "us_census.head(3)"
   ]
  },
  {
   "cell_type": "code",
   "execution_count": 11,
   "id": "68179e46",
   "metadata": {},
   "outputs": [
    {
     "data": {
      "text/html": [
       "<div>\n",
       "<style scoped>\n",
       "    .dataframe tbody tr th:only-of-type {\n",
       "        vertical-align: middle;\n",
       "    }\n",
       "\n",
       "    .dataframe tbody tr th {\n",
       "        vertical-align: top;\n",
       "    }\n",
       "\n",
       "    .dataframe thead th {\n",
       "        text-align: right;\n",
       "    }\n",
       "</style>\n",
       "<table border=\"1\" class=\"dataframe\">\n",
       "  <thead>\n",
       "    <tr style=\"text-align: right;\">\n",
       "      <th></th>\n",
       "      <th>State</th>\n",
       "      <th>TotalPop</th>\n",
       "      <th>Hispanic</th>\n",
       "      <th>White</th>\n",
       "      <th>Black</th>\n",
       "      <th>Native</th>\n",
       "      <th>Asian</th>\n",
       "      <th>Pacific</th>\n",
       "      <th>Income</th>\n",
       "      <th>GenderPop</th>\n",
       "    </tr>\n",
       "  </thead>\n",
       "  <tbody>\n",
       "    <tr>\n",
       "      <th>0</th>\n",
       "      <td>Alabama</td>\n",
       "      <td>4830620</td>\n",
       "      <td>3.75</td>\n",
       "      <td>61.88</td>\n",
       "      <td>31.25</td>\n",
       "      <td>0.45</td>\n",
       "      <td>1.05</td>\n",
       "      <td>0.03</td>\n",
       "      <td>43296.36</td>\n",
       "      <td>2341093M_2489527F</td>\n",
       "    </tr>\n",
       "    <tr>\n",
       "      <th>1</th>\n",
       "      <td>Alaska</td>\n",
       "      <td>733375</td>\n",
       "      <td>5.91</td>\n",
       "      <td>60.91</td>\n",
       "      <td>2.85</td>\n",
       "      <td>16.39</td>\n",
       "      <td>5.45</td>\n",
       "      <td>1.06</td>\n",
       "      <td>70354.74</td>\n",
       "      <td>384160M_349215F</td>\n",
       "    </tr>\n",
       "    <tr>\n",
       "      <th>2</th>\n",
       "      <td>Arizona</td>\n",
       "      <td>6641928</td>\n",
       "      <td>29.57</td>\n",
       "      <td>57.12</td>\n",
       "      <td>3.85</td>\n",
       "      <td>4.36</td>\n",
       "      <td>2.88</td>\n",
       "      <td>0.17</td>\n",
       "      <td>54207.82</td>\n",
       "      <td>3299088M_3342840F</td>\n",
       "    </tr>\n",
       "  </tbody>\n",
       "</table>\n",
       "</div>"
      ],
      "text/plain": [
       "     State  TotalPop  Hispanic  White  Black  Native  Asian  Pacific  \\\n",
       "0  Alabama   4830620      3.75  61.88  31.25    0.45   1.05     0.03   \n",
       "1   Alaska    733375      5.91  60.91   2.85   16.39   5.45     1.06   \n",
       "2  Arizona   6641928     29.57  57.12   3.85    4.36   2.88     0.17   \n",
       "\n",
       "     Income          GenderPop  \n",
       "0  43296.36  2341093M_2489527F  \n",
       "1  70354.74    384160M_349215F  \n",
       "2  54207.82  3299088M_3342840F  "
      ]
     },
     "execution_count": 11,
     "metadata": {},
     "output_type": "execute_result"
    }
   ],
   "source": [
    "race_column = ['Hispanic', 'White', 'Black', 'Native', 'Asian', 'Pacific']\n",
    "for col in race_column:\n",
    "    us_census[col] = us_census[col].replace('[,\\%]', '', regex=True)\n",
    "    us_census[col] = pd.to_numeric(us_census[col])\n",
    "us_census.head(3)"
   ]
  },
  {
   "cell_type": "code",
   "execution_count": 12,
   "id": "9b9a49d8",
   "metadata": {},
   "outputs": [
    {
     "name": "stdout",
     "output_type": "stream",
     "text": [
      "State         object\n",
      "TotalPop       int64\n",
      "Hispanic     float64\n",
      "White        float64\n",
      "Black        float64\n",
      "Native       float64\n",
      "Asian        float64\n",
      "Pacific      float64\n",
      "Income       float64\n",
      "GenderPop     object\n",
      "dtype: object\n"
     ]
    }
   ],
   "source": [
    "print(us_census.dtypes)"
   ]
  },
  {
   "cell_type": "markdown",
   "id": "78ce9dae",
   "metadata": {},
   "source": [
    "### 3. Separate `GenderPop` column into two columns, the `MalePop` column and the `FemalePop` column"
   ]
  },
  {
   "cell_type": "code",
   "execution_count": 13,
   "id": "2254cb36",
   "metadata": {
    "scrolled": true
   },
   "outputs": [
    {
     "data": {
      "text/html": [
       "<div>\n",
       "<style scoped>\n",
       "    .dataframe tbody tr th:only-of-type {\n",
       "        vertical-align: middle;\n",
       "    }\n",
       "\n",
       "    .dataframe tbody tr th {\n",
       "        vertical-align: top;\n",
       "    }\n",
       "\n",
       "    .dataframe thead th {\n",
       "        text-align: right;\n",
       "    }\n",
       "</style>\n",
       "<table border=\"1\" class=\"dataframe\">\n",
       "  <thead>\n",
       "    <tr style=\"text-align: right;\">\n",
       "      <th></th>\n",
       "      <th>State</th>\n",
       "      <th>TotalPop</th>\n",
       "      <th>Hispanic</th>\n",
       "      <th>White</th>\n",
       "      <th>Black</th>\n",
       "      <th>Native</th>\n",
       "      <th>Asian</th>\n",
       "      <th>Pacific</th>\n",
       "      <th>Income</th>\n",
       "      <th>GenderPop</th>\n",
       "      <th>MalePop</th>\n",
       "      <th>FemalePop</th>\n",
       "    </tr>\n",
       "  </thead>\n",
       "  <tbody>\n",
       "    <tr>\n",
       "      <th>0</th>\n",
       "      <td>Alabama</td>\n",
       "      <td>4830620</td>\n",
       "      <td>3.75</td>\n",
       "      <td>61.88</td>\n",
       "      <td>31.25</td>\n",
       "      <td>0.45</td>\n",
       "      <td>1.05</td>\n",
       "      <td>0.03</td>\n",
       "      <td>43296.36</td>\n",
       "      <td>2341093M_2489527F</td>\n",
       "      <td>2341093M</td>\n",
       "      <td>2489527F</td>\n",
       "    </tr>\n",
       "    <tr>\n",
       "      <th>1</th>\n",
       "      <td>Alaska</td>\n",
       "      <td>733375</td>\n",
       "      <td>5.91</td>\n",
       "      <td>60.91</td>\n",
       "      <td>2.85</td>\n",
       "      <td>16.39</td>\n",
       "      <td>5.45</td>\n",
       "      <td>1.06</td>\n",
       "      <td>70354.74</td>\n",
       "      <td>384160M_349215F</td>\n",
       "      <td>384160M</td>\n",
       "      <td>349215F</td>\n",
       "    </tr>\n",
       "    <tr>\n",
       "      <th>2</th>\n",
       "      <td>Arizona</td>\n",
       "      <td>6641928</td>\n",
       "      <td>29.57</td>\n",
       "      <td>57.12</td>\n",
       "      <td>3.85</td>\n",
       "      <td>4.36</td>\n",
       "      <td>2.88</td>\n",
       "      <td>0.17</td>\n",
       "      <td>54207.82</td>\n",
       "      <td>3299088M_3342840F</td>\n",
       "      <td>3299088M</td>\n",
       "      <td>3342840F</td>\n",
       "    </tr>\n",
       "  </tbody>\n",
       "</table>\n",
       "</div>"
      ],
      "text/plain": [
       "     State  TotalPop  Hispanic  White  Black  Native  Asian  Pacific  \\\n",
       "0  Alabama   4830620      3.75  61.88  31.25    0.45   1.05     0.03   \n",
       "1   Alaska    733375      5.91  60.91   2.85   16.39   5.45     1.06   \n",
       "2  Arizona   6641928     29.57  57.12   3.85    4.36   2.88     0.17   \n",
       "\n",
       "     Income          GenderPop   MalePop FemalePop  \n",
       "0  43296.36  2341093M_2489527F  2341093M  2489527F  \n",
       "1  70354.74    384160M_349215F   384160M   349215F  \n",
       "2  54207.82  3299088M_3342840F  3299088M  3342840F  "
      ]
     },
     "execution_count": 13,
     "metadata": {},
     "output_type": "execute_result"
    }
   ],
   "source": [
    "gender_split = us_census.GenderPop.str.split(\"_\")\n",
    "us_census['MalePop'] = gender_split.str.get(0)\n",
    "us_census['FemalePop'] = gender_split.str.get(1)\n",
    "us_census.head(3)"
   ]
  },
  {
   "cell_type": "markdown",
   "id": "f6e35a8b",
   "metadata": {},
   "source": [
    "Let's also convert these separated columns into numeric data type."
   ]
  },
  {
   "cell_type": "code",
   "execution_count": 14,
   "id": "56487272",
   "metadata": {},
   "outputs": [],
   "source": [
    "# remove the M and F letters\n",
    "us_census.MalePop = us_census.MalePop.str[0:-1]\n",
    "us_census.FemalePop = us_census.FemalePop.str[0:-1]\n",
    "\n",
    "# convert to numeric\n",
    "us_census.MalePop = pd.to_numeric(us_census.MalePop)\n",
    "us_census.FemalePop = pd.to_numeric(us_census.FemalePop)"
   ]
  },
  {
   "cell_type": "markdown",
   "id": "352991ef",
   "metadata": {},
   "source": [
    "Finally, let's drop the `GenderPop` column."
   ]
  },
  {
   "cell_type": "code",
   "execution_count": 15,
   "id": "efd191b0",
   "metadata": {
    "scrolled": true
   },
   "outputs": [
    {
     "data": {
      "text/html": [
       "<div>\n",
       "<style scoped>\n",
       "    .dataframe tbody tr th:only-of-type {\n",
       "        vertical-align: middle;\n",
       "    }\n",
       "\n",
       "    .dataframe tbody tr th {\n",
       "        vertical-align: top;\n",
       "    }\n",
       "\n",
       "    .dataframe thead th {\n",
       "        text-align: right;\n",
       "    }\n",
       "</style>\n",
       "<table border=\"1\" class=\"dataframe\">\n",
       "  <thead>\n",
       "    <tr style=\"text-align: right;\">\n",
       "      <th></th>\n",
       "      <th>State</th>\n",
       "      <th>TotalPop</th>\n",
       "      <th>Hispanic</th>\n",
       "      <th>White</th>\n",
       "      <th>Black</th>\n",
       "      <th>Native</th>\n",
       "      <th>Asian</th>\n",
       "      <th>Pacific</th>\n",
       "      <th>Income</th>\n",
       "      <th>MalePop</th>\n",
       "      <th>FemalePop</th>\n",
       "    </tr>\n",
       "  </thead>\n",
       "  <tbody>\n",
       "    <tr>\n",
       "      <th>0</th>\n",
       "      <td>Alabama</td>\n",
       "      <td>4830620</td>\n",
       "      <td>3.75</td>\n",
       "      <td>61.88</td>\n",
       "      <td>31.25</td>\n",
       "      <td>0.45</td>\n",
       "      <td>1.05</td>\n",
       "      <td>0.03</td>\n",
       "      <td>43296.36</td>\n",
       "      <td>2341093</td>\n",
       "      <td>2489527.0</td>\n",
       "    </tr>\n",
       "    <tr>\n",
       "      <th>1</th>\n",
       "      <td>Alaska</td>\n",
       "      <td>733375</td>\n",
       "      <td>5.91</td>\n",
       "      <td>60.91</td>\n",
       "      <td>2.85</td>\n",
       "      <td>16.39</td>\n",
       "      <td>5.45</td>\n",
       "      <td>1.06</td>\n",
       "      <td>70354.74</td>\n",
       "      <td>384160</td>\n",
       "      <td>349215.0</td>\n",
       "    </tr>\n",
       "    <tr>\n",
       "      <th>2</th>\n",
       "      <td>Arizona</td>\n",
       "      <td>6641928</td>\n",
       "      <td>29.57</td>\n",
       "      <td>57.12</td>\n",
       "      <td>3.85</td>\n",
       "      <td>4.36</td>\n",
       "      <td>2.88</td>\n",
       "      <td>0.17</td>\n",
       "      <td>54207.82</td>\n",
       "      <td>3299088</td>\n",
       "      <td>3342840.0</td>\n",
       "    </tr>\n",
       "  </tbody>\n",
       "</table>\n",
       "</div>"
      ],
      "text/plain": [
       "     State  TotalPop  Hispanic  White  Black  Native  Asian  Pacific  \\\n",
       "0  Alabama   4830620      3.75  61.88  31.25    0.45   1.05     0.03   \n",
       "1   Alaska    733375      5.91  60.91   2.85   16.39   5.45     1.06   \n",
       "2  Arizona   6641928     29.57  57.12   3.85    4.36   2.88     0.17   \n",
       "\n",
       "     Income  MalePop  FemalePop  \n",
       "0  43296.36  2341093  2489527.0  \n",
       "1  70354.74   384160   349215.0  \n",
       "2  54207.82  3299088  3342840.0  "
      ]
     },
     "execution_count": 15,
     "metadata": {},
     "output_type": "execute_result"
    }
   ],
   "source": [
    "us_census = us_census.drop('GenderPop', axis=1)\n",
    "us_census.head(3)"
   ]
  },
  {
   "cell_type": "code",
   "execution_count": 16,
   "id": "c1046270",
   "metadata": {},
   "outputs": [
    {
     "name": "stdout",
     "output_type": "stream",
     "text": [
      "<class 'pandas.core.frame.DataFrame'>\n",
      "RangeIndex: 60 entries, 0 to 59\n",
      "Data columns (total 11 columns):\n",
      " #   Column     Non-Null Count  Dtype  \n",
      "---  ------     --------------  -----  \n",
      " 0   State      60 non-null     object \n",
      " 1   TotalPop   60 non-null     int64  \n",
      " 2   Hispanic   60 non-null     float64\n",
      " 3   White      60 non-null     float64\n",
      " 4   Black      60 non-null     float64\n",
      " 5   Native     60 non-null     float64\n",
      " 6   Asian      60 non-null     float64\n",
      " 7   Pacific    55 non-null     float64\n",
      " 8   Income     60 non-null     float64\n",
      " 9   MalePop    60 non-null     int64  \n",
      " 10  FemalePop  57 non-null     float64\n",
      "dtypes: float64(8), int64(2), object(1)\n",
      "memory usage: 5.3+ KB\n"
     ]
    }
   ],
   "source": [
    "us_census.info()"
   ]
  },
  {
   "cell_type": "markdown",
   "id": "927de2af",
   "metadata": {},
   "source": [
    "Now the races and income columns have correct data type. We also separate the gender population into male and female and convert its data types to numeric."
   ]
  },
  {
   "cell_type": "markdown",
   "id": "556d4c7d",
   "metadata": {},
   "source": [
    "### 4. Handling Missing Values"
   ]
  },
  {
   "cell_type": "code",
   "execution_count": 17,
   "id": "3d6b7174",
   "metadata": {},
   "outputs": [
    {
     "data": {
      "text/plain": [
       "State        0\n",
       "TotalPop     0\n",
       "Hispanic     0\n",
       "White        0\n",
       "Black        0\n",
       "Native       0\n",
       "Asian        0\n",
       "Pacific      5\n",
       "Income       0\n",
       "MalePop      0\n",
       "FemalePop    3\n",
       "dtype: int64"
      ]
     },
     "execution_count": 17,
     "metadata": {},
     "output_type": "execute_result"
    }
   ],
   "source": [
    "us_census.isnull().sum()"
   ]
  },
  {
   "cell_type": "markdown",
   "id": "1bd5527c",
   "metadata": {},
   "source": [
    "Previously, only `Pacific` variable has missing values. Since we have transformed previous genderpop column to separate columns, it seems like some data for `FemalePop` are also missing.\n",
    "\n",
    "First, let's handle missing value for `Pacific` race column. We will fill the missing values with average value of the column."
   ]
  },
  {
   "cell_type": "code",
   "execution_count": 18,
   "id": "b81e3939",
   "metadata": {},
   "outputs": [],
   "source": [
    "us_census.Pacific = us_census.Pacific.fillna(us_census.Pacific.mean())"
   ]
  },
  {
   "cell_type": "markdown",
   "id": "a29a27be",
   "metadata": {},
   "source": [
    "Next, let's fill missing values for `FemalePop`. Since we have total population in each state in `TotalPop`, we can easily fill the missing value for female population by substracting total population to male population."
   ]
  },
  {
   "cell_type": "code",
   "execution_count": 19,
   "id": "63ce80b1",
   "metadata": {},
   "outputs": [],
   "source": [
    "us_census.FemalePop = us_census.FemalePop.fillna(us_census.TotalPop - us_census.MalePop)"
   ]
  },
  {
   "cell_type": "code",
   "execution_count": 20,
   "id": "6d40c464",
   "metadata": {},
   "outputs": [
    {
     "data": {
      "text/plain": [
       "State        0\n",
       "TotalPop     0\n",
       "Hispanic     0\n",
       "White        0\n",
       "Black        0\n",
       "Native       0\n",
       "Asian        0\n",
       "Pacific      0\n",
       "Income       0\n",
       "MalePop      0\n",
       "FemalePop    0\n",
       "dtype: int64"
      ]
     },
     "execution_count": 20,
     "metadata": {},
     "output_type": "execute_result"
    }
   ],
   "source": [
    "us_census.isnull().sum()"
   ]
  },
  {
   "cell_type": "markdown",
   "id": "2e36a8aa",
   "metadata": {},
   "source": [
    "### 5. Handle Duplicate Data"
   ]
  },
  {
   "cell_type": "code",
   "execution_count": 21,
   "id": "b713f594",
   "metadata": {},
   "outputs": [
    {
     "data": {
      "text/plain": [
       "False    51\n",
       "True      9\n",
       "dtype: int64"
      ]
     },
     "execution_count": 21,
     "metadata": {},
     "output_type": "execute_result"
    }
   ],
   "source": [
    "us_census.duplicated().value_counts()"
   ]
  },
  {
   "cell_type": "markdown",
   "id": "a0a0125d",
   "metadata": {},
   "source": [
    "There are 9 duplicates in the dataset. We will drop those duplicates"
   ]
  },
  {
   "cell_type": "code",
   "execution_count": 22,
   "id": "180f05ca",
   "metadata": {},
   "outputs": [
    {
     "data": {
      "text/plain": [
       "(60, 11)"
      ]
     },
     "execution_count": 22,
     "metadata": {},
     "output_type": "execute_result"
    }
   ],
   "source": [
    "# size of data before drop duplicates\n",
    "us_census.shape"
   ]
  },
  {
   "cell_type": "code",
   "execution_count": 23,
   "id": "e6ab1cda",
   "metadata": {},
   "outputs": [
    {
     "data": {
      "text/plain": [
       "(51, 11)"
      ]
     },
     "execution_count": 23,
     "metadata": {},
     "output_type": "execute_result"
    }
   ],
   "source": [
    "# size of data after drop duplicates\n",
    "us_census = us_census.drop_duplicates()\n",
    "us_census.shape"
   ]
  },
  {
   "cell_type": "markdown",
   "id": "b394b952",
   "metadata": {},
   "source": [
    "Well done!! We have cleaned the data through some simple and effective method. Lets take a look of before and after we cleaned the dataset."
   ]
  },
  {
   "cell_type": "code",
   "execution_count": 24,
   "id": "2b9e2999",
   "metadata": {},
   "outputs": [
    {
     "name": "stdout",
     "output_type": "stream",
     "text": [
      "Before dataset is cleaned: \n",
      "\n",
      "index          int64\n",
      "Unnamed: 0     int64\n",
      "State         object\n",
      "TotalPop       int64\n",
      "Hispanic      object\n",
      "White         object\n",
      "Black         object\n",
      "Native        object\n",
      "Asian         object\n",
      "Pacific       object\n",
      "Income        object\n",
      "GenderPop     object\n",
      "dtype: object\n"
     ]
    },
    {
     "data": {
      "text/html": [
       "<div>\n",
       "<style scoped>\n",
       "    .dataframe tbody tr th:only-of-type {\n",
       "        vertical-align: middle;\n",
       "    }\n",
       "\n",
       "    .dataframe tbody tr th {\n",
       "        vertical-align: top;\n",
       "    }\n",
       "\n",
       "    .dataframe thead th {\n",
       "        text-align: right;\n",
       "    }\n",
       "</style>\n",
       "<table border=\"1\" class=\"dataframe\">\n",
       "  <thead>\n",
       "    <tr style=\"text-align: right;\">\n",
       "      <th></th>\n",
       "      <th>index</th>\n",
       "      <th>Unnamed: 0</th>\n",
       "      <th>State</th>\n",
       "      <th>TotalPop</th>\n",
       "      <th>Hispanic</th>\n",
       "      <th>White</th>\n",
       "      <th>Black</th>\n",
       "      <th>Native</th>\n",
       "      <th>Asian</th>\n",
       "      <th>Pacific</th>\n",
       "      <th>Income</th>\n",
       "      <th>GenderPop</th>\n",
       "    </tr>\n",
       "  </thead>\n",
       "  <tbody>\n",
       "    <tr>\n",
       "      <th>0</th>\n",
       "      <td>0</td>\n",
       "      <td>0</td>\n",
       "      <td>Alabama</td>\n",
       "      <td>4830620</td>\n",
       "      <td>3.75%</td>\n",
       "      <td>61.88%</td>\n",
       "      <td>31.25%</td>\n",
       "      <td>0.45%</td>\n",
       "      <td>1.05%</td>\n",
       "      <td>0.03%</td>\n",
       "      <td>$43,296.36</td>\n",
       "      <td>2341093M_2489527F</td>\n",
       "    </tr>\n",
       "    <tr>\n",
       "      <th>1</th>\n",
       "      <td>1</td>\n",
       "      <td>1</td>\n",
       "      <td>Alaska</td>\n",
       "      <td>733375</td>\n",
       "      <td>5.91%</td>\n",
       "      <td>60.91%</td>\n",
       "      <td>2.85%</td>\n",
       "      <td>16.39%</td>\n",
       "      <td>5.45%</td>\n",
       "      <td>1.06%</td>\n",
       "      <td>$70,354.74</td>\n",
       "      <td>384160M_349215F</td>\n",
       "    </tr>\n",
       "    <tr>\n",
       "      <th>2</th>\n",
       "      <td>2</td>\n",
       "      <td>2</td>\n",
       "      <td>Arizona</td>\n",
       "      <td>6641928</td>\n",
       "      <td>29.57%</td>\n",
       "      <td>57.12%</td>\n",
       "      <td>3.85%</td>\n",
       "      <td>4.36%</td>\n",
       "      <td>2.88%</td>\n",
       "      <td>0.17%</td>\n",
       "      <td>$54,207.82</td>\n",
       "      <td>3299088M_3342840F</td>\n",
       "    </tr>\n",
       "    <tr>\n",
       "      <th>3</th>\n",
       "      <td>3</td>\n",
       "      <td>3</td>\n",
       "      <td>Arkansas</td>\n",
       "      <td>2958208</td>\n",
       "      <td>6.22%</td>\n",
       "      <td>71.14%</td>\n",
       "      <td>18.97%</td>\n",
       "      <td>0.52%</td>\n",
       "      <td>1.14%</td>\n",
       "      <td>0.15%</td>\n",
       "      <td>$41,935.63</td>\n",
       "      <td>1451913M_1506295F</td>\n",
       "    </tr>\n",
       "    <tr>\n",
       "      <th>4</th>\n",
       "      <td>4</td>\n",
       "      <td>4</td>\n",
       "      <td>California</td>\n",
       "      <td>38421464</td>\n",
       "      <td>37.29%</td>\n",
       "      <td>40.22%</td>\n",
       "      <td>5.68%</td>\n",
       "      <td>0.41%</td>\n",
       "      <td>13.05%</td>\n",
       "      <td>0.35%</td>\n",
       "      <td>$67,264.78</td>\n",
       "      <td>19087135M_19334329F</td>\n",
       "    </tr>\n",
       "  </tbody>\n",
       "</table>\n",
       "</div>"
      ],
      "text/plain": [
       "   index  Unnamed: 0       State  TotalPop Hispanic   White   Black  Native  \\\n",
       "0      0           0     Alabama   4830620    3.75%  61.88%  31.25%   0.45%   \n",
       "1      1           1      Alaska    733375    5.91%  60.91%   2.85%  16.39%   \n",
       "2      2           2     Arizona   6641928   29.57%  57.12%   3.85%   4.36%   \n",
       "3      3           3    Arkansas   2958208    6.22%  71.14%  18.97%   0.52%   \n",
       "4      4           4  California  38421464   37.29%  40.22%   5.68%   0.41%   \n",
       "\n",
       "    Asian Pacific       Income            GenderPop  \n",
       "0   1.05%   0.03%  $43,296.36     2341093M_2489527F  \n",
       "1   5.45%   1.06%  $70,354.74       384160M_349215F  \n",
       "2   2.88%   0.17%  $54,207.82     3299088M_3342840F  \n",
       "3   1.14%   0.15%  $41,935.63     1451913M_1506295F  \n",
       "4  13.05%   0.35%  $67,264.78   19087135M_19334329F  "
      ]
     },
     "execution_count": 24,
     "metadata": {},
     "output_type": "execute_result"
    }
   ],
   "source": [
    "print('Before dataset is cleaned: \\n')\n",
    "print(us_census_raw.dtypes)\n",
    "us_census_raw.head()"
   ]
  },
  {
   "cell_type": "code",
   "execution_count": 25,
   "id": "7d804e96",
   "metadata": {},
   "outputs": [
    {
     "name": "stdout",
     "output_type": "stream",
     "text": [
      "After dataset is cleaned: \n",
      "\n",
      "State         object\n",
      "TotalPop       int64\n",
      "Hispanic     float64\n",
      "White        float64\n",
      "Black        float64\n",
      "Native       float64\n",
      "Asian        float64\n",
      "Pacific      float64\n",
      "Income       float64\n",
      "MalePop        int64\n",
      "FemalePop    float64\n",
      "dtype: object\n"
     ]
    },
    {
     "data": {
      "text/html": [
       "<div>\n",
       "<style scoped>\n",
       "    .dataframe tbody tr th:only-of-type {\n",
       "        vertical-align: middle;\n",
       "    }\n",
       "\n",
       "    .dataframe tbody tr th {\n",
       "        vertical-align: top;\n",
       "    }\n",
       "\n",
       "    .dataframe thead th {\n",
       "        text-align: right;\n",
       "    }\n",
       "</style>\n",
       "<table border=\"1\" class=\"dataframe\">\n",
       "  <thead>\n",
       "    <tr style=\"text-align: right;\">\n",
       "      <th></th>\n",
       "      <th>State</th>\n",
       "      <th>TotalPop</th>\n",
       "      <th>Hispanic</th>\n",
       "      <th>White</th>\n",
       "      <th>Black</th>\n",
       "      <th>Native</th>\n",
       "      <th>Asian</th>\n",
       "      <th>Pacific</th>\n",
       "      <th>Income</th>\n",
       "      <th>MalePop</th>\n",
       "      <th>FemalePop</th>\n",
       "    </tr>\n",
       "  </thead>\n",
       "  <tbody>\n",
       "    <tr>\n",
       "      <th>0</th>\n",
       "      <td>Alabama</td>\n",
       "      <td>4830620</td>\n",
       "      <td>3.75</td>\n",
       "      <td>61.88</td>\n",
       "      <td>31.25</td>\n",
       "      <td>0.45</td>\n",
       "      <td>1.05</td>\n",
       "      <td>0.03</td>\n",
       "      <td>43296.36</td>\n",
       "      <td>2341093</td>\n",
       "      <td>2489527.0</td>\n",
       "    </tr>\n",
       "    <tr>\n",
       "      <th>1</th>\n",
       "      <td>Alaska</td>\n",
       "      <td>733375</td>\n",
       "      <td>5.91</td>\n",
       "      <td>60.91</td>\n",
       "      <td>2.85</td>\n",
       "      <td>16.39</td>\n",
       "      <td>5.45</td>\n",
       "      <td>1.06</td>\n",
       "      <td>70354.74</td>\n",
       "      <td>384160</td>\n",
       "      <td>349215.0</td>\n",
       "    </tr>\n",
       "    <tr>\n",
       "      <th>2</th>\n",
       "      <td>Arizona</td>\n",
       "      <td>6641928</td>\n",
       "      <td>29.57</td>\n",
       "      <td>57.12</td>\n",
       "      <td>3.85</td>\n",
       "      <td>4.36</td>\n",
       "      <td>2.88</td>\n",
       "      <td>0.17</td>\n",
       "      <td>54207.82</td>\n",
       "      <td>3299088</td>\n",
       "      <td>3342840.0</td>\n",
       "    </tr>\n",
       "    <tr>\n",
       "      <th>3</th>\n",
       "      <td>Arkansas</td>\n",
       "      <td>2958208</td>\n",
       "      <td>6.22</td>\n",
       "      <td>71.14</td>\n",
       "      <td>18.97</td>\n",
       "      <td>0.52</td>\n",
       "      <td>1.14</td>\n",
       "      <td>0.15</td>\n",
       "      <td>41935.63</td>\n",
       "      <td>1451913</td>\n",
       "      <td>1506295.0</td>\n",
       "    </tr>\n",
       "    <tr>\n",
       "      <th>4</th>\n",
       "      <td>California</td>\n",
       "      <td>38421464</td>\n",
       "      <td>37.29</td>\n",
       "      <td>40.22</td>\n",
       "      <td>5.68</td>\n",
       "      <td>0.41</td>\n",
       "      <td>13.05</td>\n",
       "      <td>0.35</td>\n",
       "      <td>67264.78</td>\n",
       "      <td>19087135</td>\n",
       "      <td>19334329.0</td>\n",
       "    </tr>\n",
       "  </tbody>\n",
       "</table>\n",
       "</div>"
      ],
      "text/plain": [
       "        State  TotalPop  Hispanic  White  Black  Native  Asian  Pacific  \\\n",
       "0     Alabama   4830620      3.75  61.88  31.25    0.45   1.05     0.03   \n",
       "1      Alaska    733375      5.91  60.91   2.85   16.39   5.45     1.06   \n",
       "2     Arizona   6641928     29.57  57.12   3.85    4.36   2.88     0.17   \n",
       "3    Arkansas   2958208      6.22  71.14  18.97    0.52   1.14     0.15   \n",
       "4  California  38421464     37.29  40.22   5.68    0.41  13.05     0.35   \n",
       "\n",
       "     Income   MalePop   FemalePop  \n",
       "0  43296.36   2341093   2489527.0  \n",
       "1  70354.74    384160    349215.0  \n",
       "2  54207.82   3299088   3342840.0  \n",
       "3  41935.63   1451913   1506295.0  \n",
       "4  67264.78  19087135  19334329.0  "
      ]
     },
     "execution_count": 25,
     "metadata": {},
     "output_type": "execute_result"
    }
   ],
   "source": [
    "print('After dataset is cleaned: \\n')\n",
    "print(us_census.dtypes)\n",
    "us_census.head()"
   ]
  },
  {
   "cell_type": "markdown",
   "id": "6eb1945d",
   "metadata": {},
   "source": [
    "Finally, let's save our cleaned dataset for future analysis"
   ]
  },
  {
   "cell_type": "code",
   "execution_count": 34,
   "id": "7a056ee9",
   "metadata": {},
   "outputs": [],
   "source": [
    "us_census.to_csv('datasets/cleaned_data.csv', header=True)"
   ]
  },
  {
   "cell_type": "markdown",
   "id": "1f669c98",
   "metadata": {},
   "source": [
    "## Data Visualization\n",
    "***\n",
    "Now we have cleaned our dataset, let's explore it further to get some information about population, income, and races distribution in the states of USA.\n",
    "\n",
    "Some question we would like to answer from this dataset:\n",
    "- What is top 5 states with highest population?\n",
    "- What is top 5 states with highest income?\n",
    "- How is gender distribution in the states of New York?\n",
    "- How is race distribution in the states of all of states in USA?"
   ]
  },
  {
   "cell_type": "code",
   "execution_count": 27,
   "id": "b6ea0368",
   "metadata": {},
   "outputs": [
    {
     "data": {
      "image/png": "[encoded data removed]",
      "text/plain": [
       "<Figure size 576x432 with 1 Axes>"
      ]
     },
     "metadata": {
      "needs_background": "light"
     },
     "output_type": "display_data"
    }
   ],
   "source": [
    "top_5_pop = us_census.sort_values('TotalPop', axis=0, ascending=False).head(5)\n",
    "\n",
    "plt.figure(figsize=(8,6))\n",
    "sns.barplot(x='State', y='TotalPop', data=top_5_pop)\n",
    "plt.title('Top Five Total Population by State')\n",
    "plt.ylabel('Number of residents')\n",
    "plt.show()"
   ]
  },
  {
   "cell_type": "code",
   "execution_count": 28,
   "id": "8fd89bd1",
   "metadata": {},
   "outputs": [
    {
     "data": {
      "image/png": "[encoded data removed]",
      "text/plain": [
       "<Figure size 576x432 with 1 Axes>"
      ]
     },
     "metadata": {
      "needs_background": "light"
     },
     "output_type": "display_data"
    }
   ],
   "source": [
    "top_5_income = us_census.sort_values('Income', axis=0, ascending=False).head(5)\n",
    "\n",
    "plt.figure(figsize=(8,6))\n",
    "sns.barplot(x='State', y='Income', data=top_5_income)\n",
    "plt.title('Top Five Income by State')\n",
    "plt.ylabel('Income in US Dollars')\n",
    "plt.show()"
   ]
  },
  {
   "cell_type": "code",
   "execution_count": 29,
   "id": "50c7550f",
   "metadata": {},
   "outputs": [
    {
     "data": {
      "image/png": "[encoded data removed]",
      "text/plain": [
       "<Figure size 432x288 with 1 Axes>"
      ]
     },
     "metadata": {},
     "output_type": "display_data"
    }
   ],
   "source": [
    "ny_census = us_census[us_census['State'] == 'New York'] # filter data for states of new york\n",
    "ny_gender = ['Male', 'Female']\n",
    "ny_gender_count = [int(ny_census.MalePop), int(ny_census.FemalePop)] # take data for male and female population\n",
    "\n",
    "plt.pie(ny_gender_count, labels=ny_gender, autopct='%0.1f%%')\n",
    "plt.title('Gender Population in New York')\n",
    "plt.axis('equal')\n",
    "plt.tight_layout()\n",
    "plt.show()"
   ]
  },
  {
   "cell_type": "code",
   "execution_count": 30,
   "id": "a2b702d3",
   "metadata": {},
   "outputs": [
    {
     "data": {
      "image/png": "[encoded data removed]",
      "text/plain": [
       "<Figure size 1440x864 with 6 Axes>"
      ]
     },
     "metadata": {
      "needs_background": "light"
     },
     "output_type": "display_data"
    }
   ],
   "source": [
    "plt.figure(figsize=(20, 12))\n",
    "for i in range(0, len(race_column)):\n",
    "    plt.subplot(2, 3, i+1)\n",
    "    plt.hist(race_column[i], data=us_census)\n",
    "    plt.xlabel('percentage', fontsize=14)\n",
    "    plt.title(f'{race_column[i]} People Distribution per State', fontsize=14)\n",
    "    plt.tight_layout()"
   ]
  },
  {
   "cell_type": "markdown",
   "id": "02c07de9",
   "metadata": {},
   "source": [
    "From races distribution we can see that white people histogram are skewed to the left, while the rest of the histograms are skewed to the right. It appears that white people are the most common races in United States.\n",
    "\n",
    "There is some unique observation in Hispanic people histogram. The are bins that occupy the 90-100 percentage range. Let's check it."
   ]
  },
  {
   "cell_type": "code",
   "execution_count": 31,
   "id": "2f73e4f1",
   "metadata": {
    "scrolled": true
   },
   "outputs": [
    {
     "data": {
      "text/html": [
       "<div>\n",
       "<style scoped>\n",
       "    .dataframe tbody tr th:only-of-type {\n",
       "        vertical-align: middle;\n",
       "    }\n",
       "\n",
       "    .dataframe tbody tr th {\n",
       "        vertical-align: top;\n",
       "    }\n",
       "\n",
       "    .dataframe thead th {\n",
       "        text-align: right;\n",
       "    }\n",
       "</style>\n",
       "<table border=\"1\" class=\"dataframe\">\n",
       "  <thead>\n",
       "    <tr style=\"text-align: right;\">\n",
       "      <th></th>\n",
       "      <th>State</th>\n",
       "      <th>TotalPop</th>\n",
       "      <th>Hispanic</th>\n",
       "      <th>White</th>\n",
       "      <th>Black</th>\n",
       "      <th>Native</th>\n",
       "      <th>Asian</th>\n",
       "      <th>Pacific</th>\n",
       "      <th>Income</th>\n",
       "      <th>MalePop</th>\n",
       "      <th>FemalePop</th>\n",
       "    </tr>\n",
       "  </thead>\n",
       "  <tbody>\n",
       "    <tr>\n",
       "      <th>46</th>\n",
       "      <td>Puerto Rico</td>\n",
       "      <td>3583073</td>\n",
       "      <td>98.89</td>\n",
       "      <td>0.77</td>\n",
       "      <td>0.09</td>\n",
       "      <td>0.0</td>\n",
       "      <td>0.08</td>\n",
       "      <td>0.0</td>\n",
       "      <td>20720.54</td>\n",
       "      <td>1713860</td>\n",
       "      <td>1869213.0</td>\n",
       "    </tr>\n",
       "  </tbody>\n",
       "</table>\n",
       "</div>"
      ],
      "text/plain": [
       "          State  TotalPop  Hispanic  White  Black  Native  Asian  Pacific  \\\n",
       "46  Puerto Rico   3583073     98.89   0.77   0.09     0.0   0.08      0.0   \n",
       "\n",
       "      Income  MalePop  FemalePop  \n",
       "46  20720.54  1713860  1869213.0  "
      ]
     },
     "execution_count": 31,
     "metadata": {},
     "output_type": "execute_result"
    }
   ],
   "source": [
    "us_census[us_census['Hispanic'] >= 90]"
   ]
  },
  {
   "cell_type": "markdown",
   "id": "744800f0",
   "metadata": {},
   "source": [
    "Hispanic people populates 98.89% of population in Puerto Rico! But wait, is this true? The value in this observation seems to be extreme, double-checking with data from other source will help us validate the accuracy of our data."
   ]
  },
  {
   "cell_type": "markdown",
   "id": "8a012d95",
   "metadata": {},
   "source": [
    "## Conclusion\n",
    "***"
   ]
  },
  {
   "cell_type": "markdown",
   "id": "8a57cc98",
   "metadata": {},
   "source": [
    "Through cleaning this dataset, we can obtain informative findings that previously would be impossible. So far, what we have done for cleaning data are:\n",
    "\n",
    "- Remove unused column\n",
    "- Create new columns based on existing column\n",
    "- Using regex to manipulate string data\n",
    "- Convert data type to another type\n",
    "- Check and handle missing values\n",
    "- Check and drop duplicated data\n",
    "\n",
    "In addition, we also analyze the data using visualization to find insight. Data cleaning is one of the most important part of data analytic process, and a data analyst should always spend some time to clean and validate their data.\n",
    "\n",
    "Thank you for visiting my project! ✌"
   ]
  }
 ],
 "metadata": {
  "kernelspec": {
   "display_name": "Python 3 (ipykernel)",
   "language": "python",
   "name": "python3"
  },
  "language_info": {
   "codemirror_mode": {
    "name": "ipython",
    "version": 3
   },
   "file_extension": ".py",
   "mimetype": "text/x-python",
   "name": "python",
   "nbconvert_exporter": "python",
   "pygments_lexer": "ipython3",
   "version": "3.9.12"
  }
 },
 "nbformat": 4,
 "nbformat_minor": 5
}
